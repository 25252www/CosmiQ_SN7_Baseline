{
 "cells": [
  {
   "cell_type": "markdown",
   "metadata": {},
   "source": [
    "预处理"
   ]
  },
  {
   "cell_type": "code",
   "execution_count": null,
   "metadata": {},
   "outputs": [],
   "source": [
    "!python /home/liuxiangyu/CosmiQ_SN7_Baseline/src/pre_train.py"
   ]
  },
  {
   "cell_type": "markdown",
   "metadata": {},
   "source": [
    "训练"
   ]
  },
  {
   "cell_type": "code",
   "execution_count": null,
   "metadata": {},
   "outputs": [],
   "source": [
    "!screen -L python /home/liuxiangyu/CosmiQ_SN7_Baseline/src/sn7_baseline_train.py"
   ]
  },
  {
   "cell_type": "markdown",
   "metadata": {},
   "source": [
    "对验证集的图片进行推理"
   ]
  },
  {
   "cell_type": "code",
   "execution_count": null,
   "metadata": {},
   "outputs": [],
   "source": [
    "!python sn7_baseline_infer.py"
   ]
  },
  {
   "cell_type": "markdown",
   "metadata": {},
   "source": [
    "对推理后生成的mask进行后处理"
   ]
  },
  {
   "cell_type": "code",
   "execution_count": null,
   "metadata": {},
   "outputs": [],
   "source": [
    "!python post_infer.py"
   ]
  },
  {
   "cell_type": "markdown",
   "metadata": {},
   "source": [
    "评估模型性能"
   ]
  },
  {
   "cell_type": "code",
   "execution_count": null,
   "metadata": {},
   "outputs": [],
   "source": [
    "import solaris\n",
    "\n",
    "truth_csv = '/home/liuxiangyu/CosmiQ_SN7_Baseline/sn7_baseline_labels.csv'\n",
    "prop_csv = '/home/liuxiangyu/CosmiQ_SN7_Baseline/inference_out/sn7_baseline_preds/csvs/sn7_baseline_predictions.csv'\n",
    "score, all_stats = solaris.eval.challenges.multi_temporal_buildings(prop_csv, truth_csv,stats=True, verbose=True)"
   ]
  },
  {
   "cell_type": "markdown",
   "metadata": {},
   "source": [
    "计算平均track score和change score"
   ]
  },
  {
   "cell_type": "code",
   "execution_count": null,
   "metadata": {},
   "outputs": [],
   "source": [
    "import statistics\n",
    "\n",
    "track_score_list = []\n",
    "change_score_list = []\n",
    "for k,v in all_stats.items():\n",
    "    track_score_list.append(v[4])\n",
    "    change_score_list.append(v[8])\n",
    "print(\"mean track socre:\", statistics.mean(track_score_list))\n",
    "print(\"mean change socre:\", statistics.mean(change_score_list))"
   ]
  },
  {
   "cell_type": "markdown",
   "metadata": {},
   "source": [
    "计算F1 score"
   ]
  },
  {
   "cell_type": "code",
   "execution_count": null,
   "metadata": {},
   "outputs": [],
   "source": [
    "!screen -L python /home/liuxiangyu/CosmiQ_SN7_Baseline/src/evaluation_F1.py"
   ]
  }
 ],
 "metadata": {
  "kernelspec": {
   "display_name": "Python 3.7.12 ('solaris')",
   "language": "python",
   "name": "python3"
  },
  "language_info": {
   "codemirror_mode": {
    "name": "ipython",
    "version": 3
   },
   "file_extension": ".py",
   "mimetype": "text/x-python",
   "name": "python",
   "nbconvert_exporter": "python",
   "pygments_lexer": "ipython3",
   "version": "3.7.12"
  },
  "orig_nbformat": 4,
  "vscode": {
   "interpreter": {
    "hash": "d462411eb9638572f7bdc354db1f2d4fabd664429bf2ae3d442bc35bb08570fb"
   }
  }
 },
 "nbformat": 4,
 "nbformat_minor": 2
}
